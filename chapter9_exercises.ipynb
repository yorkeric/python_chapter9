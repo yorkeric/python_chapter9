{
 "cells": [
  {
   "cell_type": "markdown",
   "metadata": {},
   "source": [
    "## Chapter 9 Exercises\n",
    "### Programming Exercises\n",
    "#### Question 2 - Capital Quiz\n"
   ]
  },
  {
   "cell_type": "code",
   "execution_count": null,
   "metadata": {},
   "outputs": [],
   "source": [
    "# Write a program that creates a dictionary containing the U.S. states as keys and capitals as values\n",
    "# The program should randomly quiz the user by displaying a state and asking the user to enter the capital\n",
    "# The program should keep a count of correct and incorrect responses\n"
   ]
  }
 ],
 "metadata": {
  "kernelspec": {
   "display_name": "Python 3",
   "language": "python",
   "name": "python3"
  },
  "language_info": {
   "name": "python",
   "version": "3.11.3"
  },
  "orig_nbformat": 4
 },
 "nbformat": 4,
 "nbformat_minor": 2
}
