{
 "cells": [
  {
   "cell_type": "markdown",
   "metadata": {},
   "source": [
    "## Chapter 9 Exercises\n",
    "### Programming Exercises\n",
    "#### Question 2 - Capital Quiz\n"
   ]
  },
  {
   "cell_type": "code",
   "execution_count": 4,
   "metadata": {},
   "outputs": [
    {
     "name": "stdout",
     "output_type": "stream",
     "text": [
      "Lansing\n"
     ]
    }
   ],
   "source": [
    "# Write a program that creates a dictionary containing the U.S. states as keys and capitals as values\n",
    "# The program should randomly quiz the user by displaying a state and asking the user to enter the capital\n",
    "# The program should keep a count of correct and incorrect responses#\n",
    "\n",
    "# Open file containing state capitals for read\n",
    "state_capitals_file = open(\"state_capitals.txt\", \"r\")\n",
    "# Loop file and for each line split on the \",\" and add the key/value pair to the dictionary\n",
    "state_capitals_dictionary = dict(line.strip().split(\",\") for line in state_capitals_file)\n",
    "# Close the file\n",
    "state_capitals_file.close()\n",
    "\n",
    "print(state_capitals_dictionary[\"Michigan\"])\n"
   ]
  }
 ],
 "metadata": {
  "kernelspec": {
   "display_name": "Python 3",
   "language": "python",
   "name": "python3"
  },
  "language_info": {
   "codemirror_mode": {
    "name": "ipython",
    "version": 3
   },
   "file_extension": ".py",
   "mimetype": "text/x-python",
   "name": "python",
   "nbconvert_exporter": "python",
   "pygments_lexer": "ipython3",
   "version": "3.11.3"
  },
  "orig_nbformat": 4
 },
 "nbformat": 4,
 "nbformat_minor": 2
}
