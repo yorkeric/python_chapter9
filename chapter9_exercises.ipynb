{
 "cells": [
  {
   "cell_type": "markdown",
   "metadata": {},
   "source": [
    "## Chapter 9 Exercises\n",
    "### Programming Exercises\n",
    "#### Question 2 - Capital Quiz\n"
   ]
  },
  {
   "cell_type": "code",
   "execution_count": 29,
   "metadata": {},
   "outputs": [
    {
     "name": "stdout",
     "output_type": "stream",
     "text": [
      "Correct!\n",
      "Correct!\n",
      "Incorrect! The capital of Pennsylvania is Harrisburg\n",
      "Correct!\n",
      "Correct!\n",
      "\n",
      "Quiz score\n",
      "----------------\n",
      "Correct: 4\n",
      "Incorrect: 1\n",
      "Score: 80.0%\n"
     ]
    }
   ],
   "source": [
    "# Write a program that creates a dictionary containing the U.S. states as keys and capitals as values\n",
    "# The program should randomly quiz the user by displaying a state and asking the user to enter the capital\n",
    "# The program should keep a count of correct and incorrect responses#\n",
    "\n",
    "# Import random module\n",
    "import random\n",
    "# Import state_capitals module\n",
    "import state_capitals\n",
    "\n",
    "# Main function\n",
    "def main():\n",
    "    # Get state capitals dictionary from module\n",
    "    state_capitals_dictionary = state_capitals.get_state_capitals_dictionary()\n",
    "    # Initalize the correct count\n",
    "    correct_count = 0\n",
    "    # Initalize the incorrect count\n",
    "    incorrect_count = 0\n",
    "    while(True):\n",
    "        # Get a random state and capital from the dictionary\n",
    "        state, capital = random.choice(list(state_capitals_dictionary.items()))        \n",
    "        # Prompt user to enter the capital of the specified state\n",
    "        answer = input(\"What is the capital of \" + state)\n",
    "        # if the answer is correct\n",
    "        if answer.lower() == capital.lower():\n",
    "            # Print a message\n",
    "            print(\"Correct!\")\n",
    "            # Increment the correct count\n",
    "            correct_count += 1\n",
    "        # if the answer is incorrect\n",
    "        else:\n",
    "            # Print a message\n",
    "            print(\"Incorrect! The capital of\", state, \"is\", capital)\n",
    "            # Increment the incorrect count\n",
    "            incorrect_count += 1\n",
    "        # Prompt user if they want to contue\n",
    "        if input(\"Do you want to continue? [y/n]\") == \"n\":\n",
    "            # Stop if the user entered \"n\"\n",
    "            break\n",
    "    # Print the quiz score\n",
    "    print()\n",
    "    print(\"Quiz score\")\n",
    "    print(\"----------------\")\n",
    "    # Print correct count\n",
    "    print(\"Correct:\", correct_count)\n",
    "    # Print incorrect count\n",
    "    print(\"Incorrect:\", incorrect_count)\n",
    "    # Print the percentage of correct answers\n",
    "    print(\"Score: \" + str(correct_count / (correct_count + incorrect_count) * 100) + \"%\")\n",
    "    \n",
    "#Call main function\n",
    "main()\n"
   ]
  }
 ],
 "metadata": {
  "kernelspec": {
   "display_name": "Python 3",
   "language": "python",
   "name": "python3"
  },
  "language_info": {
   "codemirror_mode": {
    "name": "ipython",
    "version": 3
   },
   "file_extension": ".py",
   "mimetype": "text/x-python",
   "name": "python",
   "nbconvert_exporter": "python",
   "pygments_lexer": "ipython3",
   "version": "3.11.3"
  },
  "orig_nbformat": 4
 },
 "nbformat": 4,
 "nbformat_minor": 2
}
